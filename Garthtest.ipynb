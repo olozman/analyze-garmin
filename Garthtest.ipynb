{
 "cells": [
  {
   "cell_type": "code",
   "execution_count": null,
   "metadata": {},
   "outputs": [],
   "source": [
    "import garth\n",
    "\n",
    "\n",
    "email = \"owen.lozman@gmail.com\"\n",
    "password = \"tkrYgTx&s=7-\"\n",
    "# If there's MFA, you'll be prompted during the login\n",
    "garth.configure(proxies={\"https\": \"http://localhost:8888\"}, ssl_verify=False)\n",
    "garth.login(email, password)\n",
    "garth.client.username\n",
    "garth.save(\"~/.garth\")"
   ]
  },
  {
   "cell_type": "markdown",
   "metadata": {},
   "source": [
    "https://pypi.org/project/garth/#description\n"
   ]
  }
 ],
 "metadata": {
  "kernelspec": {
   "display_name": "Python 3",
   "language": "python",
   "name": "python3"
  },
  "language_info": {
   "codemirror_mode": {
    "name": "ipython",
    "version": 3
   },
   "file_extension": ".py",
   "mimetype": "text/x-python",
   "name": "python",
   "nbconvert_exporter": "python",
   "pygments_lexer": "ipython3",
   "version": "3.12.0"
  }
 },
 "nbformat": 4,
 "nbformat_minor": 2
}
